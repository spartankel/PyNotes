{
 "cells": [
  {
   "cell_type": "code",
   "execution_count": null,
   "metadata": {
    "collapsed": true
   },
   "outputs": [],
   "source": [
    "Dislocations in FeCr alloys\n",
    "=============================\n",
    "Introduction\n",
    "--------------\n",
    "In bcc lattice the dislocations do not dissociate due to the high energy associated with the stacking fault defects. The glide is produced by perfect dislocations type $\\frac{1}{2}<111>$ in the {110}, {112}, {123} planes. At low stress the fist dislocation to move are the edge ones. \n",
    "\n",
    "### Particle Hardening\n",
    "If the particles are coherent with the lattice the dislocations goes through, in general, by shearing them. However when the particle becames bigger in size the dislocation may \"dodge\" the particle (climb, cross-slip,...) because requires less energy. \n",
    "\n",
    "At low temperature the main mechanism that the dislocations has to surpass the precipitates ir the **Orowan mechanism**. The dislocation surpass the particle and leaves a dislocation loop around it. This only can happen if the particles are inpenetrable by the dislocation. \n",
    "\n",
    "![Ref 2 V factor vs MicroHardness](files/img/Vfactor/Ref2_1.jpeg)\n",
    " \n"
   ]
  },
  {
   "cell_type": "code",
   "execution_count": 1,
   "metadata": {
    "collapsed": false
   },
   "outputs": [],
   "source": []
  },
  {
   "cell_type": "code",
   "execution_count": null,
   "metadata": {
    "collapsed": true
   },
   "outputs": [],
   "source": []
  }
 ],
 "metadata": {
  "kernelspec": {
   "display_name": "Python 3",
   "language": "python",
   "name": "python3"
  },
  "language_info": {
   "codemirror_mode": {
    "name": "ipython",
    "version": 3
   },
   "file_extension": ".py",
   "mimetype": "text/x-python",
   "name": "python",
   "nbconvert_exporter": "python",
   "pygments_lexer": "ipython3",
   "version": "3.4.3"
  }
 },
 "nbformat": 4,
 "nbformat_minor": 0
}
