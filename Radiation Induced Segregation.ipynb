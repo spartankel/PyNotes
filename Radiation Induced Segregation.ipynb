{
 "metadata": {
  "name": ""
 },
 "nbformat": 3,
 "nbformat_minor": 0,
 "worksheets": [
  {
   "cells": [
    {
     "cell_type": "markdown",
     "metadata": {},
     "source": [
      "Radiation Induced Segregation\n",
      "=============================\n",
      "Introduction\n",
      "------------\n",
      "The interdiffusion model has been modified in order to reproduce effects of lattice transport assisted by point defects far from equilibrium conditions.\n",
      "\n",
      "For this purpose the individual probabilities of a point defect moving an atom has been computed for *interstitials* and *vacancies*:\n",
      "* When an I jumps from cell 1 to cell 2 ($I_{1\\rightarrow 2}$):\n",
      "> $$P(Cr_{1\\rightarrow 2}) = g_Ix_{1\\rightarrow 2}^I + (1-g_I)\\frac{x_{1\\rightarrow 2}^I+x_{2\\rightarrow 1}^I}{2}$$\n",
      ">\n",
      "> $$P(Fe_{1\\rightarrow 2}) = g_I(1-x_{1\\rightarrow 2}^I)+(1-g_I)\\left(1-\\frac{x_{1\\rightarrow 2}^I + x_{2\\rightarrow 1}^I}{2}\\right) = 1-P(Cr_{1\\rightarrow 2})$$\n",
      "* When an V jumps from cell 1 to cell 2 ($V_{1\\rightarrow 2}$):\n",
      "> $$P(Cr_{2\\rightarrow 1})=g_Vx_{2\\rightarrow 1}^V + (1-g_V)\\frac{x_{1\\rightarrow 2}^V + x_{2\\rightarrow 1}^V}{2}$$\n",
      ">\n",
      "> $$P(Fe_{2\\rightarrow 1})=1-P(Cr_{2\\rightarrow 1})$$\n",
      "\n",
      "<font style=\"font-family:monospace;\">MMonCa</font> Simulations \n",
      "--------------------------------------------------------------\n",
      "<font style=\"text-decoration:underline;\">Parameters</font>\n",
      "* E$_{mix}(x) = 0$\n",
      "* D$_I(x) = 0.02 * e^{\\frac{-0.68}{k_BT}}$\n",
      "* D$_V(x) = 0.02 * e^{\\frac{-0.68}{k_BT}}$\n",
      "* $\\alpha_I(x) = 50 * e^{\\frac{-0.1}{k_BT}}$\n",
      "* $\\alpha_V(x) = 50 * e^{\\frac{-0.1}{k_BT}}$\n",
      "\n",
      "\n"
     ]
    },
    {
     "cell_type": "code",
     "collapsed": false,
     "input": [
      "%matplotlib inline\n",
      "from numpy import *\n",
      "import matplotlib.pyplot as plt\n",
      "aP = 50       # Prefactor of alfa factor\n",
      "aE = 0.1      # Energy of alfa factor\n",
      "T = [-100, 0, 100, 200, 300, 400, 500]  # Temperature in Kelvin\n",
      "a = [aP * exp(-aE / (8.6174e-5 * (x + 273.15))) for x in T]\n",
      "\n",
      "#plt.plot([1. / x for x in T], a)\n",
      "plt.plot(T, a)\n",
      "plt.xlabel(\"T [Celsius]\")\n",
      "plt.ylabel(\"alfa\")\n",
      "plt.show()\n",
      "print (\"T[C]   alpha\\n============\")\n",
      "for i in range(len(a)):\n",
      "    print(\"%4d   %4.2f\" % (T[i], a[i])) \n",
      "\n"
     ],
     "language": "python",
     "metadata": {},
     "outputs": [
      {
       "metadata": {},
       "output_type": "display_data",
       "png": "[encoded data removed]",
       "text": [
        "<matplotlib.figure.Figure at 0x7f5d37c6df90>"
       ]
      },
      {
       "output_type": "stream",
       "stream": "stdout",
       "text": [
        "T[C]   alpha\n",
        "============\n",
        "-100   0.06\n",
        "   0   0.71\n",
        " 100   2.23\n",
        " 200   4.30\n",
        " 300   6.60\n",
        " 400   8.92\n",
        " 500   11.15\n"
       ]
      }
     ],
     "prompt_number": 31
    },
    {
     "cell_type": "markdown",
     "metadata": {},
     "source": [
      "### Interstitial Cascade\n",
      "#### <font style=\"text-decoration:underline;\">T = -100$^o$C</font>\n",
      "$$\\alpha_I=0.06$$\n",
      "![Interstitial Random Cascade](files/img/RIS/-100I.png)\n",
      "#### <font style=\"text-decoration:underline;\">T = 0$^o$C</font>\n",
      "$$\\alpha_I=0.71$$\n",
      "![Interstitial Random Cascade](files/img/RIS/0I.png)\n",
      "#### <font style=\"text-decoration:underline;\">T = 100$^o$C</font>\n",
      "$$\\alpha_I=2.23$$\n",
      "![Interstitial Random Cascade](files/img/RIS/100I.png)\n",
      "#### <font style=\"text-decoration:underline;\">T = 200$^o$C</font>\n",
      "$$\\alpha_I=4.30$$\n",
      "![Interstitial Random Cascade](files/img/RIS/200I.png)\n",
      "#### <font style=\"text-decoration:underline;\">T = 500$^o$C</font>\n",
      "$$\\alpha_I=11.15$$\n",
      "![Interstitial Random Cascade](files/img/RIS/500I.png)\n",
      "### Vacancy Cascade\n",
      "#### <font style=\"text-decoration:underline;\">T = -100$^o$C</font>\n",
      "$$\\alpha_V=0.06$$\n",
      "![Vacancy Random Cascade](files/img/RIS/-100V.png)\n",
      "#### <font style=\"text-decoration:underline;\">T = 0$^o$C</font>\n",
      "$$\\alpha_V=0.71$$\n",
      "![Vacancy Random Cascade](files/img/RIS/0V.png)\n",
      "#### <font style=\"text-decoration:underline;\">T = 100$^o$C</font>\n",
      "$$\\alpha_V=2.23$$\n",
      "![Vacancy Random Cascade](files/img/RIS/100V.png)\n",
      "#### <font style=\"text-decoration:underline;\">T = 500$^o$C</font>\n",
      "$$\\alpha_V=11.15$$\n",
      "![Vacancy Random Cascade](files/img/RIS/500V.png)\n",
      "\n",
      "\n"
     ]
    },
    {
     "cell_type": "code",
     "collapsed": false,
     "input": [],
     "language": "python",
     "metadata": {},
     "outputs": []
    }
   ],
   "metadata": {}
  }
 ]
}