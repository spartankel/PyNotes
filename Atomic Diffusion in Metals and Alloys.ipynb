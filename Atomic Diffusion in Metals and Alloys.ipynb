{
 "metadata": {
  "name": ""
 },
 "nbformat": 3,
 "nbformat_minor": 0,
 "worksheets": [
  {
   "cells": [
    {
     "cell_type": "markdown",
     "metadata": {},
     "source": [
      "Atomic Diffusion in Metals and Alloys\n",
      "======================================\n",
      "\n",
      "Continuum Theory of Diffusion\n",
      "-----------------------------\n",
      "### Fick's First Law\n",
      "__Fick's first law__ ([wiki](http://en.wikipedia.org/wiki/Fick%27s_laws_of_diffusion)) it postulates that the flux goes from regions of high concentration to regions of low concentration.\n",
      "$$ J = - D \\frac{\\partial\\phi}{\\partial x} $$\n",
      "where:\n",
      "+ $J$ is the *diffusion flux* per unit area per unit time $\\left(\\frac{mol}{cm^2s}\\right)$. Measures the amount of substance that will flow through a small area during a small time interval.\n",
      "+ $D$ is the **diffusivity** $\\left(\\frac{cm^2}{s}\\right)$\n",
      "+ $\\phi$ is the concentration $\\left(\\frac{mol}{cm^3}\\right)$\n",
      "+ $x$ is the position ($cm$)\n",
      "\n",
      "![Fick's first law](http://www.matter.org.uk/matscicdrom/manual/images/image68.gif)\n",
      "\n",
      "Fick's first law can only be used to solve steady-state diffusion problems. \n",
      "\n",
      "#### Fick's first law in three dimensions\n",
      "\n",
      "Fick's first law is easily generalised to three dimensions using a vector notation:\n",
      "$$\\vec{J} = -D\\nabla C$$\n",
      "\n",
      "<img src=\"files/img/FickI.jpeg\" alt=\"Fick's first law\" height=\"420\" width=\"420\">\n",
      "\n",
      "### Equation of Continuity\n",
      "\n",
      "If there are no source or sinks of diffusing particles, so its number is conserved, the diffusing species obey a *conservation law* and an *equation of continuity* can be formulated\n",
      "\n",
      "$$ -\\vec{\\nabla}\u00b7\\vec{J} = \\frac{\\partial C}{\\partial t}$$\n",
      "\n",
      "## Fick's Second Law -  The *Diffusion Equation*\n",
      "Combining *Fick's first law* with the *equation of continuity* yield into the *Fick's second law* sometimes also called the *diffusion equation*:\n",
      "$$\\frac{\\partial C}{\\partial t} = \\vec{\\nabla}\u00b7(D\\vec{\\nabla}C)$$\n",
      "\n"
     ]
    },
    {
     "cell_type": "code",
     "collapsed": false,
     "input": [],
     "language": "python",
     "metadata": {},
     "outputs": []
    }
   ],
   "metadata": {}
  }
 ]
}